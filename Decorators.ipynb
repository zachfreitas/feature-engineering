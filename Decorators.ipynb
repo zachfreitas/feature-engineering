{
 "cells": [
  {
   "cell_type": "markdown",
   "metadata": {},
   "source": [
    "# Decorators"
   ]
  },
  {
   "cell_type": "code",
   "execution_count": 31,
   "metadata": {},
   "outputs": [
    {
     "name": "stdout",
     "output_type": "stream",
     "text": [
      "data_preprocessing took 0.0 seconds to run.\n"
     ]
    }
   ],
   "source": [
    "import time\n",
    "\n",
    "def timing_decorator(func):\n",
    "    def wrapper(*args, **kwargs):\n",
    "        start_time = time.time()\n",
    "        result = func(*args, **kwargs)\n",
    "        end_time = time.time()\n",
    "        print(f\"{func.__name__} took {end_time - start_time} seconds to run.\")\n",
    "        return result\n",
    "    return wrapper\n",
    "\n",
    "@timing_decorator\n",
    "def data_preprocessing(data):\n",
    "    # Some heavy computation here\n",
    "    processed_data = [x*2 for x in data]\n",
    "    return processed_data\n",
    "\n",
    "# Using the decorated function\n",
    "data = [1, 2, 3, 4]\n",
    "processed = data_preprocessing(data)"
   ]
  },
  {
   "cell_type": "markdown",
   "metadata": {},
   "source": [
    "## Properties in Python"
   ]
  },
  {
   "cell_type": "code",
   "execution_count": 32,
   "metadata": {},
   "outputs": [
    {
     "name": "stdout",
     "output_type": "stream",
     "text": [
      "20\n",
      "Temperature out of range. Please set between 10 and 40.\n"
     ]
    }
   ],
   "source": [
    "class TemperatureModel:\n",
    "    def __init__(self, initial_temperature):\n",
    "        self._temperature = initial_temperature\n",
    "    \n",
    "    @property\n",
    "    def temperature(self):\n",
    "        return self._temperature\n",
    "    \n",
    "    @temperature.setter\n",
    "    def temperature(self, value):\n",
    "        if 10 <= value <= 40:\n",
    "            self._temperature = value\n",
    "        else:\n",
    "            print(\"Temperature out of range. Please set between 10 and 40.\")\n",
    "\n",
    "# Create a model with initial temperature 20\n",
    "model = TemperatureModel(20)\n",
    "\n",
    "print(model.temperature)  \n",
    "# Try to set the temperature to 5\n",
    "model.temperature = 5  "
   ]
  },
  {
   "cell_type": "markdown",
   "metadata": {},
   "source": [
    "## Python @property Decorator"
   ]
  },
  {
   "cell_type": "code",
   "execution_count": 33,
   "metadata": {},
   "outputs": [
    {
     "name": "stdout",
     "output_type": "stream",
     "text": [
      "0.95\n"
     ]
    }
   ],
   "source": [
    "class StockPredictor:\n",
    "    def __init__(self):\n",
    "        self._accuracy = 0.95\n",
    "    \n",
    "    @property\n",
    "    def accuracy(self):\n",
    "        return self._accuracy\n",
    "\n",
    "# Create a StockPredictor object\n",
    "predictor = StockPredictor()\n",
    "\n",
    "# Access the accuracy property\n",
    "print(predictor.accuracy)  \n",
    "\n",
    "# Try to modify the accuracy property\n",
    "# predictor.accuracy = 0.96  "
   ]
  },
  {
   "cell_type": "code",
   "execution_count": 34,
   "metadata": {},
   "outputs": [
    {
     "ename": "AttributeError",
     "evalue": "property 'accuracy' of 'StockPredictor' object has no setter",
     "output_type": "error",
     "traceback": [
      "\u001b[1;31m---------------------------------------------------------------------------\u001b[0m",
      "\u001b[1;31mAttributeError\u001b[0m                            Traceback (most recent call last)",
      "\u001b[1;32mc:\\Users\\zfreitas\\OneDrive - Viasat, Inc\\Documents\\Python Scripts\\feature-engineering\\Decorators.ipynb Cell 7\u001b[0m line \u001b[0;36m2\n\u001b[0;32m      <a href='vscode-notebook-cell:/c%3A/Users/zfreitas/OneDrive%20-%20Viasat%2C%20Inc/Documents/Python%20Scripts/feature-engineering/Decorators.ipynb#W6sZmlsZQ%3D%3D?line=0'>1</a>\u001b[0m \u001b[39m# Test it\u001b[39;00m\n\u001b[1;32m----> <a href='vscode-notebook-cell:/c%3A/Users/zfreitas/OneDrive%20-%20Viasat%2C%20Inc/Documents/Python%20Scripts/feature-engineering/Decorators.ipynb#W6sZmlsZQ%3D%3D?line=1'>2</a>\u001b[0m predictor\u001b[39m.\u001b[39;49maccuracy \u001b[39m=\u001b[39m \u001b[39m0.96\u001b[39m \u001b[39m# This shoud trigger setter error.\u001b[39;00m\n",
      "\u001b[1;31mAttributeError\u001b[0m: property 'accuracy' of 'StockPredictor' object has no setter"
     ]
    }
   ],
   "source": [
    "# Test it\n",
    "predictor.accuracy = 0.96 # This shoud trigger setter error."
   ]
  },
  {
   "cell_type": "markdown",
   "metadata": {},
   "source": [
    "## Implementing Setters with @property Decorator in Python"
   ]
  },
  {
   "cell_type": "code",
   "execution_count": null,
   "metadata": {},
   "outputs": [],
   "source": [
    "class Temperature:\n",
    "    def __init__(self, temp_f):\n",
    "        self._temp_f = temp_f\n",
    "\n",
    "    @property\n",
    "    def temp_f(self):\n",
    "        return self._temp_f\n",
    "\n",
    "    @temp_f.setter\n",
    "    def temp_f(self, value):\n",
    "        if value < -459.67:\n",
    "            print(\"Temperature below absolute zero is not possible.\")\n",
    "        else:\n",
    "            self._temp_f = value"
   ]
  },
  {
   "cell_type": "code",
   "execution_count": null,
   "metadata": {},
   "outputs": [
    {
     "name": "stdout",
     "output_type": "stream",
     "text": [
      "32\n"
     ]
    }
   ],
   "source": [
    "# Example\n",
    "my_temp = Temperature(32)\n",
    "print(my_temp.temp_f)  "
   ]
  },
  {
   "cell_type": "code",
   "execution_count": null,
   "metadata": {},
   "outputs": [
    {
     "name": "stdout",
     "output_type": "stream",
     "text": [
      "Temperature below absolute zero is not possible.\n"
     ]
    }
   ],
   "source": [
    "my_temp.temp_f = -500  "
   ]
  },
  {
   "cell_type": "markdown",
   "metadata": {},
   "source": [
    "## Handling Deletion with @property Decorator in Python"
   ]
  },
  {
   "cell_type": "code",
   "execution_count": null,
   "metadata": {},
   "outputs": [],
   "source": [
    "class Patient:\n",
    "    def __init__(self, name, undergoing_treatment=False):\n",
    "        self.name = name\n",
    "        self._undergoing_treatment = undergoing_treatment\n",
    "\n",
    "    @property\n",
    "    def undergoing_treatment(self):\n",
    "        return self._undergoing_treatment\n",
    "\n",
    "    @undergoing_treatment.deleter\n",
    "    def undergoing_treatment(self):\n",
    "        if self._undergoing_treatment:\n",
    "            print(\"Cannot delete: Patient is undergoing treatment.\")\n",
    "        else:\n",
    "            print(f\"Patient {self.name}'s record deleted.\")\n",
    "            del self._undergoing_treatment"
   ]
  },
  {
   "cell_type": "code",
   "execution_count": null,
   "metadata": {},
   "outputs": [
    {
     "name": "stdout",
     "output_type": "stream",
     "text": [
      "False\n"
     ]
    }
   ],
   "source": [
    "# Example\n",
    "john = Patient('John', False)\n",
    "print(john.undergoing_treatment) "
   ]
  },
  {
   "cell_type": "code",
   "execution_count": null,
   "metadata": {},
   "outputs": [
    {
     "name": "stdout",
     "output_type": "stream",
     "text": [
      "Patient John's record deleted.\n"
     ]
    }
   ],
   "source": [
    "del john.undergoing_treatment"
   ]
  },
  {
   "cell_type": "markdown",
   "metadata": {},
   "source": [
    "## Managing Object States"
   ]
  },
  {
   "cell_type": "code",
   "execution_count": null,
   "metadata": {},
   "outputs": [],
   "source": [
    "class MLModel:\n",
    "    def __init__(self):\n",
    "        self._is_trained = False\n",
    "\n",
    "    @property\n",
    "    def is_trained(self):\n",
    "        return self._is_trained\n",
    "\n",
    "    def train(self, data):\n",
    "        # Simulate training\n",
    "        self._is_trained = True\n",
    "        print(\"Model trained.\")"
   ]
  },
  {
   "cell_type": "code",
   "execution_count": null,
   "metadata": {},
   "outputs": [
    {
     "name": "stdout",
     "output_type": "stream",
     "text": [
      "False\n"
     ]
    }
   ],
   "source": [
    "model = MLModel()\n",
    "print(model.is_trained) "
   ]
  },
  {
   "cell_type": "code",
   "execution_count": null,
   "metadata": {},
   "outputs": [
    {
     "name": "stdout",
     "output_type": "stream",
     "text": [
      "Model trained.\n",
      "True\n"
     ]
    }
   ],
   "source": [
    "df = []\n",
    "model.train(df) \n",
    "print(model.is_trained) "
   ]
  },
  {
   "cell_type": "markdown",
   "metadata": {},
   "source": [
    "## Data Validation and Type Checking"
   ]
  },
  {
   "cell_type": "code",
   "execution_count": null,
   "metadata": {},
   "outputs": [],
   "source": [
    "class DataFrame:\n",
    "    def __init__(self, data):\n",
    "        self._data = data\n",
    "\n",
    "    @property\n",
    "    def data(self):\n",
    "        return self._data\n",
    "\n",
    "    @data.setter\n",
    "    def data(self, value):\n",
    "        if not isinstance(value, list):\n",
    "            raise TypeError(\"Data should be a list.\")\n",
    "        self._data = value"
   ]
  },
  {
   "cell_type": "code",
   "execution_count": null,
   "metadata": {},
   "outputs": [
    {
     "name": "stdout",
     "output_type": "stream",
     "text": [
      "[1, 2, 3]\n"
     ]
    }
   ],
   "source": [
    "df = DataFrame([1, 2, 3])\n",
    "print(df.data) "
   ]
  },
  {
   "cell_type": "code",
   "execution_count": null,
   "metadata": {},
   "outputs": [
    {
     "ename": "TypeError",
     "evalue": "Data should be a list.",
     "output_type": "error",
     "traceback": [
      "\u001b[1;31m---------------------------------------------------------------------------\u001b[0m",
      "\u001b[1;31mTypeError\u001b[0m                                 Traceback (most recent call last)",
      "\u001b[1;32mc:\\Users\\zfreitas\\OneDrive - Viasat, Inc\\Documents\\Python Scripts\\feature-engineering\\Decorators.ipynb Cell 23\u001b[0m line \u001b[0;36m1\n\u001b[1;32m----> <a href='vscode-notebook-cell:/c%3A/Users/zfreitas/OneDrive%20-%20Viasat%2C%20Inc/Documents/Python%20Scripts/feature-engineering/Decorators.ipynb#X31sZmlsZQ%3D%3D?line=0'>1</a>\u001b[0m df\u001b[39m.\u001b[39;49mdata \u001b[39m=\u001b[39m \u001b[39m\"\u001b[39m\u001b[39mstring\u001b[39m\u001b[39m\"\u001b[39m\n",
      "\u001b[1;32mc:\\Users\\zfreitas\\OneDrive - Viasat, Inc\\Documents\\Python Scripts\\feature-engineering\\Decorators.ipynb Cell 23\u001b[0m line \u001b[0;36m1\n\u001b[0;32m      <a href='vscode-notebook-cell:/c%3A/Users/zfreitas/OneDrive%20-%20Viasat%2C%20Inc/Documents/Python%20Scripts/feature-engineering/Decorators.ipynb#X31sZmlsZQ%3D%3D?line=8'>9</a>\u001b[0m \u001b[39m@data\u001b[39m\u001b[39m.\u001b[39msetter\n\u001b[0;32m     <a href='vscode-notebook-cell:/c%3A/Users/zfreitas/OneDrive%20-%20Viasat%2C%20Inc/Documents/Python%20Scripts/feature-engineering/Decorators.ipynb#X31sZmlsZQ%3D%3D?line=9'>10</a>\u001b[0m \u001b[39mdef\u001b[39;00m \u001b[39mdata\u001b[39m(\u001b[39mself\u001b[39m, value):\n\u001b[0;32m     <a href='vscode-notebook-cell:/c%3A/Users/zfreitas/OneDrive%20-%20Viasat%2C%20Inc/Documents/Python%20Scripts/feature-engineering/Decorators.ipynb#X31sZmlsZQ%3D%3D?line=10'>11</a>\u001b[0m     \u001b[39mif\u001b[39;00m \u001b[39mnot\u001b[39;00m \u001b[39misinstance\u001b[39m(value, \u001b[39mlist\u001b[39m):\n\u001b[1;32m---> <a href='vscode-notebook-cell:/c%3A/Users/zfreitas/OneDrive%20-%20Viasat%2C%20Inc/Documents/Python%20Scripts/feature-engineering/Decorators.ipynb#X31sZmlsZQ%3D%3D?line=11'>12</a>\u001b[0m         \u001b[39mraise\u001b[39;00m \u001b[39mTypeError\u001b[39;00m(\u001b[39m\"\u001b[39m\u001b[39mData should be a list.\u001b[39m\u001b[39m\"\u001b[39m)\n\u001b[0;32m     <a href='vscode-notebook-cell:/c%3A/Users/zfreitas/OneDrive%20-%20Viasat%2C%20Inc/Documents/Python%20Scripts/feature-engineering/Decorators.ipynb#X31sZmlsZQ%3D%3D?line=12'>13</a>\u001b[0m     \u001b[39mself\u001b[39m\u001b[39m.\u001b[39m_data \u001b[39m=\u001b[39m value\n",
      "\u001b[1;31mTypeError\u001b[0m: Data should be a list."
     ]
    }
   ],
   "source": [
    "df.data = \"string\""
   ]
  },
  {
   "cell_type": "markdown",
   "metadata": {},
   "source": [
    "## Creating Read-only Properties"
   ]
  },
  {
   "cell_type": "code",
   "execution_count": null,
   "metadata": {},
   "outputs": [],
   "source": [
    "class ImmutableData:\n",
    "    def __init__(self, data):\n",
    "        self._data = data\n",
    "\n",
    "    @property\n",
    "    def data(self):\n",
    "        return self._data"
   ]
  },
  {
   "cell_type": "code",
   "execution_count": null,
   "metadata": {},
   "outputs": [
    {
     "name": "stdout",
     "output_type": "stream",
     "text": [
      "[1, 2, 3]\n"
     ]
    }
   ],
   "source": [
    "im_data = ImmutableData([1, 2, 3])\n",
    "print(im_data.data) "
   ]
  },
  {
   "cell_type": "code",
   "execution_count": null,
   "metadata": {},
   "outputs": [
    {
     "ename": "AttributeError",
     "evalue": "property 'data' of 'ImmutableData' object has no setter",
     "output_type": "error",
     "traceback": [
      "\u001b[1;31m---------------------------------------------------------------------------\u001b[0m",
      "\u001b[1;31mAttributeError\u001b[0m                            Traceback (most recent call last)",
      "\u001b[1;32mc:\\Users\\zfreitas\\OneDrive - Viasat, Inc\\Documents\\Python Scripts\\feature-engineering\\Decorators.ipynb Cell 27\u001b[0m line \u001b[0;36m1\n\u001b[1;32m----> <a href='vscode-notebook-cell:/c%3A/Users/zfreitas/OneDrive%20-%20Viasat%2C%20Inc/Documents/Python%20Scripts/feature-engineering/Decorators.ipynb#X35sZmlsZQ%3D%3D?line=0'>1</a>\u001b[0m im_data\u001b[39m.\u001b[39;49mdata \u001b[39m=\u001b[39m ImmutableData([\u001b[39m3\u001b[39m, \u001b[39m4\u001b[39m, \u001b[39m5\u001b[39m])\n\u001b[0;32m      <a href='vscode-notebook-cell:/c%3A/Users/zfreitas/OneDrive%20-%20Viasat%2C%20Inc/Documents/Python%20Scripts/feature-engineering/Decorators.ipynb#X35sZmlsZQ%3D%3D?line=1'>2</a>\u001b[0m \u001b[39mprint\u001b[39m(im_data\u001b[39m.\u001b[39mdata) \n",
      "\u001b[1;31mAttributeError\u001b[0m: property 'data' of 'ImmutableData' object has no setter"
     ]
    }
   ],
   "source": [
    "im_data.data = ImmutableData([3, 4, 5])\n",
    "print(im_data.data) "
   ]
  },
  {
   "cell_type": "markdown",
   "metadata": {},
   "source": [
    "## Enhancing Data Security in Applications"
   ]
  },
  {
   "cell_type": "code",
   "execution_count": null,
   "metadata": {},
   "outputs": [],
   "source": [
    "class SecureData:\n",
    "    def __init__(self, data, user):\n",
    "        self._data = data\n",
    "        self._user = user\n",
    "\n",
    "    @property\n",
    "    def data(self):\n",
    "        if self._user == 'admin':\n",
    "            return self._data\n",
    "        else:\n",
    "            return \"Access Denied\""
   ]
  },
  {
   "cell_type": "code",
   "execution_count": null,
   "metadata": {},
   "outputs": [
    {
     "name": "stdout",
     "output_type": "stream",
     "text": [
      "Access Denied\n"
     ]
    }
   ],
   "source": [
    "# Test\n",
    "secure_data = SecureData(\"Sensitive Info\", 'user')\n",
    "print(secure_data.data)  # Output: \"Access Denied\""
   ]
  },
  {
   "cell_type": "code",
   "execution_count": null,
   "metadata": {},
   "outputs": [
    {
     "name": "stdout",
     "output_type": "stream",
     "text": [
      "Access Denied\n"
     ]
    }
   ],
   "source": [
    "secure_data.user_role = 'admin'\n",
    "print(secure_data.data)  "
   ]
  },
  {
   "cell_type": "code",
   "execution_count": null,
   "metadata": {},
   "outputs": [],
   "source": []
  }
 ],
 "metadata": {
  "kernelspec": {
   "display_name": "Python 3",
   "language": "python",
   "name": "python3"
  },
  "language_info": {
   "codemirror_mode": {
    "name": "ipython",
    "version": 3
   },
   "file_extension": ".py",
   "mimetype": "text/x-python",
   "name": "python",
   "nbconvert_exporter": "python",
   "pygments_lexer": "ipython3",
   "version": "3.11.5"
  }
 },
 "nbformat": 4,
 "nbformat_minor": 2
}
