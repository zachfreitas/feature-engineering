{
 "cells": [
  {
   "cell_type": "markdown",
   "metadata": {},
   "source": [
    "Hypothesis Testing"
   ]
  },
  {
   "cell_type": "code",
   "execution_count": null,
   "metadata": {},
   "outputs": [],
   "source": []
  },
  {
   "cell_type": "markdown",
   "metadata": {},
   "source": [
    "## Z-test for Population Mean"
   ]
  },
  {
   "cell_type": "code",
   "execution_count": null,
   "metadata": {},
   "outputs": [],
   "source": [
    "from statsmodels.stats.weightstats import ztest\n",
    "\n",
    "test_stats, p_value = ztest(x1=df['weight'], value=70.8, alternative='two-sided')\n",
    "\n",
    "print(p_value)\n",
    "# output: 4.0517857849264745e-118"
   ]
  },
  {
   "cell_type": "markdown",
   "metadata": {},
   "source": [
    "## One-Sample t-test for Population Mean"
   ]
  },
  {
   "cell_type": "code",
   "execution_count": 1,
   "metadata": {},
   "outputs": [
    {
     "ename": "NameError",
     "evalue": "name 'df' is not defined",
     "output_type": "error",
     "traceback": [
      "\u001b[1;31m---------------------------------------------------------------------------\u001b[0m",
      "\u001b[1;31mNameError\u001b[0m                                 Traceback (most recent call last)",
      "\u001b[1;32mc:\\Users\\zfreitas\\OneDrive - Viasat, Inc\\Documents\\Python Scripts\\feature-engineering\\Hypothesis-Testing.ipynb Cell 6\u001b[0m line \u001b[0;36m3\n\u001b[0;32m      <a href='vscode-notebook-cell:/c%3A/Users/zfreitas/OneDrive%20-%20Viasat%2C%20Inc/Documents/Python%20Scripts/feature-engineering/Hypothesis-Testing.ipynb#X10sZmlsZQ%3D%3D?line=0'>1</a>\u001b[0m \u001b[39mfrom\u001b[39;00m \u001b[39mscipy\u001b[39;00m\u001b[39m.\u001b[39;00m\u001b[39mstats\u001b[39;00m \u001b[39mimport\u001b[39;00m ttest_1samp\n\u001b[1;32m----> <a href='vscode-notebook-cell:/c%3A/Users/zfreitas/OneDrive%20-%20Viasat%2C%20Inc/Documents/Python%20Scripts/feature-engineering/Hypothesis-Testing.ipynb#X10sZmlsZQ%3D%3D?line=2'>3</a>\u001b[0m test_statistic, p_value \u001b[39m=\u001b[39m ttest_1samp(df[\u001b[39m'\u001b[39m\u001b[39mweight\u001b[39m\u001b[39m'\u001b[39m], popmean\u001b[39m=\u001b[39m\u001b[39m70.8\u001b[39m, alternative\u001b[39m=\u001b[39m\u001b[39m'\u001b[39m\u001b[39mtwo-sided\u001b[39m\u001b[39m'\u001b[39m)\n\u001b[0;32m      <a href='vscode-notebook-cell:/c%3A/Users/zfreitas/OneDrive%20-%20Viasat%2C%20Inc/Documents/Python%20Scripts/feature-engineering/Hypothesis-Testing.ipynb#X10sZmlsZQ%3D%3D?line=4'>5</a>\u001b[0m \u001b[39mprint\u001b[39m(p_value)\n\u001b[0;32m      <a href='vscode-notebook-cell:/c%3A/Users/zfreitas/OneDrive%20-%20Viasat%2C%20Inc/Documents/Python%20Scripts/feature-engineering/Hypothesis-Testing.ipynb#X10sZmlsZQ%3D%3D?line=5'>6</a>\u001b[0m \u001b[39m# output: 1.6709961011966605e-114\u001b[39;00m\n",
      "\u001b[1;31mNameError\u001b[0m: name 'df' is not defined"
     ]
    }
   ],
   "source": [
    "from scipy.stats import ttest_1samp\n",
    "\n",
    "test_statistic, p_value = ttest_1samp(df['weight'], popmean=70.8, alternative='two-sided')\n",
    "\n",
    "print(p_value)\n",
    "# output: 1.6709961011966605e-114"
   ]
  },
  {
   "cell_type": "markdown",
   "metadata": {},
   "source": [
    "## Paired t-Test"
   ]
  },
  {
   "cell_type": "code",
   "execution_count": null,
   "metadata": {},
   "outputs": [],
   "source": [
    "df_score = df[(df['online.tutorial'] == 1) & (df['score1'].notnull()) & \n",
    "(df['score2'].notnull())][['name','score1','score2','online.tutorial']]"
   ]
  },
  {
   "cell_type": "code",
   "execution_count": null,
   "metadata": {},
   "outputs": [],
   "source": [
    "from scipy.stats import ttest_rel\n",
    "\n",
    "test_statistic, p_value = ttest_rel(df_score['score1'], df_score['score2'], alternative='less')\n",
    "\n",
    "print(p_value)\n",
    "# output: 8.946942058314536e-77"
   ]
  },
  {
   "cell_type": "markdown",
   "metadata": {},
   "source": [
    "## Two-Sample t-Test"
   ]
  },
  {
   "cell_type": "code",
   "execution_count": null,
   "metadata": {},
   "outputs": [],
   "source": [
    "df_male = df[(df['gender'] == 'Male') & \n",
    "(df['salary'].notnull())].sample(n=500)[['name', 'gender','salary']]\n",
    "\n",
    "df_female = df[(df['gender'] == 'Female') & \n",
    "(df['salary'].notnull())].sample(n=500)[['name', 'gender','salary']]"
   ]
  },
  {
   "cell_type": "code",
   "execution_count": null,
   "metadata": {},
   "outputs": [],
   "source": [
    "from scipy.stats import ttest_ind\n",
    "\n",
    "test_statistic, p_value = ttest_ind(df_male['salary'], df_female['salary'], \n",
    "alternative='greater')\n",
    "\n",
    "print(p_value)\n",
    "# output: 2.0579274970768232e-69"
   ]
  },
  {
   "cell_type": "markdown",
   "metadata": {},
   "source": [
    "## ANOVA"
   ]
  },
  {
   "cell_type": "code",
   "execution_count": null,
   "metadata": {},
   "outputs": [],
   "source": [
    "df_biology = df[(df['major'] == 'Biology') & \n",
    "(df['salary'].notnull())].sample(n=200)[['name','major','salary']]\n",
    "\n",
    "df_economics = df[(df['major'] == 'Economics and Finance') & \n",
    "(df['salary'].notnull())].sample(n=200)[['name','major','salary']]\n",
    "\n",
    "df_environmental = df[(df['major'] == 'Environmental Sciences') & \n",
    "(df['salary'].notnull())].sample(n=200)[['name','major','salary']]\n",
    "\n",
    "df_mathematics = df[(df['major'] == 'Mathematics and Statistics') & \n",
    "(df['salary'].notnull())].sample(n=200)[['name','major','salary']]\n",
    "\n",
    "df_politics = df[(df['major'] == 'Political Science') & \n",
    "(df['salary'].notnull())].sample(n=200)[['name','major','salary']]\n",
    "\n",
    "df_social = df[(df['major'] == 'Social Sciences') & \n",
    "(df['salary'].notnull())].sample(n=200)[['name','major','salary']]"
   ]
  },
  {
   "cell_type": "code",
   "execution_count": null,
   "metadata": {},
   "outputs": [],
   "source": [
    "from scipy.stats import f_oneway\n",
    "\n",
    "f_stats, p_value = f_oneway(df_biology['salary'], df_economics['salary'], \n",
    "df_environmental['salary'] , df_mathematics['salary'], df_politics['salary'], \n",
    "df_social['salary'])\n",
    "\n",
    "print(p_value)\n",
    "# output: 1.4642372015448516e-144"
   ]
  },
  {
   "cell_type": "markdown",
   "metadata": {},
   "source": [
    "## Chi-Square Goodness-of-Fit (GoF)"
   ]
  },
  {
   "cell_type": "code",
   "execution_count": null,
   "metadata": {},
   "outputs": [],
   "source": [
    "df_sample = df.sample(n=500)\n",
    "\n",
    "df_obs_freq = pd.DataFrame({'observed_freq' : \n",
    "df_sample.groupby(['religion']).size()}).reset_index()"
   ]
  },
  {
   "cell_type": "code",
   "execution_count": null,
   "metadata": {},
   "outputs": [],
   "source": [
    "religion = ['Catholic', 'Muslim', 'Orthodox', 'Other', 'Protestant']\n",
    "rel_freq = [0.48, 0.02, 0.08,0.30, 0.12]\n",
    "\n",
    "df_rel_freq = pd.DataFrame({'religion' : religion, 'rel_freq': rel_freq})"
   ]
  },
  {
   "cell_type": "code",
   "execution_count": null,
   "metadata": {},
   "outputs": [],
   "source": [
    "df_exp_freq = df_obs_freq.merge(df_rel_freq, on='religion')\n",
    "df_exp_freq['expected_freq'] = df_exp_freq['rel_freq']*500"
   ]
  },
  {
   "cell_type": "code",
   "execution_count": null,
   "metadata": {},
   "outputs": [],
   "source": [
    "from scipy.stats import chisquare\n",
    "\n",
    "test_statistic, p_value = chisquare(df_exp_freq['observed_freq'], \n",
    "df_exp_freq['expected_freq'])\n",
    "\n",
    "print(p_value)\n",
    "# output: 5.2921362560681225e-09"
   ]
  },
  {
   "cell_type": "markdown",
   "metadata": {},
   "source": [
    "## Chi-Square Independence Test"
   ]
  },
  {
   "cell_type": "code",
   "execution_count": null,
   "metadata": {},
   "outputs": [],
   "source": [
    "df_major = pd.crosstab(df['major'], df['gender'])"
   ]
  },
  {
   "cell_type": "code",
   "execution_count": null,
   "metadata": {},
   "outputs": [],
   "source": [
    "from scipy.stats import chi2_contingency\n",
    "\n",
    "test_statistic, p_value, x, c = chi2_contingency(df_major)\n",
    "\n",
    "print(p_value)\n",
    "# 5.501737149286338e-187"
   ]
  }
 ],
 "metadata": {
  "kernelspec": {
   "display_name": "Python 3",
   "language": "python",
   "name": "python3"
  },
  "language_info": {
   "codemirror_mode": {
    "name": "ipython",
    "version": 3
   },
   "file_extension": ".py",
   "mimetype": "text/x-python",
   "name": "python",
   "nbconvert_exporter": "python",
   "pygments_lexer": "ipython3",
   "version": "3.11.5"
  }
 },
 "nbformat": 4,
 "nbformat_minor": 2
}
