{
 "cells": [
  {
   "cell_type": "markdown",
   "metadata": {},
   "source": [
    "## K-nearest Neighbour"
   ]
  },
  {
   "cell_type": "code",
   "execution_count": 3,
   "metadata": {},
   "outputs": [
    {
     "name": "stdout",
     "output_type": "stream",
     "text": [
      "Array with missing values:\n",
      " [[12.  7. 13.  6. nan  8.]\n",
      " [ 6.  8. 12.  2. 12.  1.]\n",
      " [10.  2.  1. 14. 11. nan]\n",
      " [13.  7. 14. 14. nan nan]\n",
      " [nan nan nan 10. 14. 11.]\n",
      " [ 2. nan  6.  4.  2.  9.]\n",
      " [14. 11.  3. 12.  7. nan]\n",
      " [ 3.  7. nan  6. 12.  9.]\n",
      " [ 1.  9.  3. 13.  2.  2.]\n",
      " [10. 10. 13. 13. 11.  3.]]\n",
      "Array with imputed missing values:\n",
      " [[12.   7.  13.   6.  12.5  8. ]\n",
      " [ 6.   8.  12.   2.  12.   1. ]\n",
      " [10.   2.   1.  14.  11.  10. ]\n",
      " [13.   7.  14.  14.  12.5  7. ]\n",
      " [ 6.5  4.5  7.  10.  14.  11. ]\n",
      " [ 2.   8.   6.   4.   2.   9. ]\n",
      " [14.  11.   3.  12.   7.   7. ]\n",
      " [ 3.   7.  12.5  6.  12.   9. ]\n",
      " [ 1.   9.   3.  13.   2.   2. ]\n",
      " [10.  10.  13.  13.  11.   3. ]]\n"
     ]
    }
   ],
   "source": [
    "import numpy as np  \n",
    "from sklearn import impute  \n",
    "# create a random numpy array with 10 samples  \n",
    "# and 6 features and values ranging from 1 to 15  \n",
    "X = np.random.randint(1, 15, (10, 6)) \n",
    "# convert the array to float  \n",
    "X = X.astype(float)  \n",
    "# randomly assign 10 elements to NaN (missing)  \n",
    "X.ravel()[np.random.choice(X.size, 10, replace=False)] = np.nan  \n",
    "\n",
    "# Show Array with Missing Values\n",
    "print('Array with missing values:\\n', X)\n",
    "\n",
    "# use 2 nearest neighbours to fill na values  \n",
    "knn_imputer = impute.KNNImputer(n_neighbors=2)  \n",
    "Y = knn_imputer.fit_transform(X) \n",
    "\n",
    "print('Array with imputed missing values:\\n', Y)"
   ]
  },
  {
   "cell_type": "code",
   "execution_count": null,
   "metadata": {},
   "outputs": [],
   "source": []
  }
 ],
 "metadata": {
  "kernelspec": {
   "display_name": "Python 3",
   "language": "python",
   "name": "python3"
  },
  "language_info": {
   "codemirror_mode": {
    "name": "ipython",
    "version": 3
   },
   "file_extension": ".py",
   "mimetype": "text/x-python",
   "name": "python",
   "nbconvert_exporter": "python",
   "pygments_lexer": "ipython3",
   "version": "3.11.5"
  }
 },
 "nbformat": 4,
 "nbformat_minor": 2
}
