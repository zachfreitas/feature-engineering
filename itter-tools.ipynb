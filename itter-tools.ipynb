{
 "cells": [
  {
   "cell_type": "markdown",
   "metadata": {},
   "source": [
    "# Infinite iterators"
   ]
  },
  {
   "cell_type": "code",
   "execution_count": 1,
   "metadata": {},
   "outputs": [
    {
     "name": "stdout",
     "output_type": "stream",
     "text": [
      "{1: 70, 2: 71, 3: 69, 4: 68, 5: 70}\n"
     ]
    }
   ],
   "source": [
    "from itertools import count\n",
    "\n",
    "# Start counting from 1\n",
    "counter = count(start=1)\n",
    "\n",
    "# Simulated data points for weight measurements\n",
    "weight_data = [70, 71, 69, 68, 70]\n",
    "\n",
    "# Create a dictionary with indexes for each weight\n",
    "indexed_data = {}\n",
    "for index, weight in zip(counter, weight_data):\n",
    "    indexed_data[index] = weight\n",
    "print(indexed_data)"
   ]
  },
  {
   "cell_type": "code",
   "execution_count": 2,
   "metadata": {},
   "outputs": [
    {
     "name": "stdout",
     "output_type": "stream",
     "text": [
      "[('Mon', 23), ('Tue', 25), ('Wed', 22), ('Thu', 21), ('Fri', 20), ('Sat', 19), ('Sun', 24), ('Mon', 23), ('Tue', 25), ('Wed', 22), ('Thu', 21), ('Fri', 20), ('Sat', 19), ('Sun', 24)]\n"
     ]
    }
   ],
   "source": [
    "from itertools import cycle, islice\n",
    "\n",
    "# Create a cycle of days of the week\n",
    "days_of_week = cycle(['Mon', 'Tue', 'Wed', 'Thu', 'Fri', 'Sat', 'Sun'])\n",
    "\n",
    "# Simulated temperature data for 7 days\n",
    "temperatures = [23, 25, 22, 21, 20, 19, 24]\n",
    "\n",
    "# Pair each temperature with a day of the week for the next two weeks\n",
    "next_two_weeks_temp = list(zip(islice(days_of_week, 14), temperatures * 2))\n",
    "\n",
    "print(next_two_weeks_temp)"
   ]
  },
  {
   "cell_type": "code",
   "execution_count": 3,
   "metadata": {},
   "outputs": [
    {
     "name": "stdout",
     "output_type": "stream",
     "text": [
      "[4000, 4200, 4500, 5000, 5000, 5000]\n"
     ]
    }
   ],
   "source": [
    "from itertools import repeat\n",
    "\n",
    "# Use repeat to generate the same revenue for the next 3 months\n",
    "revenue_projection = list(repeat(5000, 3))\n",
    "\n",
    "# Existing revenue data for past months\n",
    "past_revenue = [4000, 4200, 4500]\n",
    "\n",
    "# Combine past revenue and future projections\n",
    "total_revenue = past_revenue + revenue_projection\n",
    "\n",
    "print(total_revenue)"
   ]
  },
  {
   "cell_type": "markdown",
   "metadata": {},
   "source": [
    "# Finite iterators"
   ]
  },
  {
   "cell_type": "code",
   "execution_count": 4,
   "metadata": {},
   "outputs": [
    {
     "name": "stdout",
     "output_type": "stream",
     "text": [
      "[1000, 1100, 1050, 1200, 1300, 1250, 1100, 1000, 1150, 1050, 1100, 1200]\n"
     ]
    }
   ],
   "source": [
    "from itertools import chain\n",
    "\n",
    "# Quarterly sales data for a year\n",
    "Q1_sales = [1000, 1100, 1050]\n",
    "Q2_sales = [1200, 1300, 1250]\n",
    "Q3_sales = [1100, 1000, 1150]\n",
    "Q4_sales = [1050, 1100, 1200]\n",
    "\n",
    "# Use chain to combine all the sales data\n",
    "annual_sales = list(chain(Q1_sales, Q2_sales, Q3_sales, Q4_sales))\n",
    "\n",
    "print(annual_sales)"
   ]
  },
  {
   "cell_type": "code",
   "execution_count": 5,
   "metadata": {},
   "outputs": [
    {
     "name": "stdout",
     "output_type": "stream",
     "text": [
      "['Great!', 'Excellent!']\n"
     ]
    }
   ],
   "source": [
    "from itertools import compress\n",
    "\n",
    "# Product reviews\n",
    "reviews = [\"Great!\", \"Bad!\", \"Average.\", \"Excellent!\", \"Poor!\"]\n",
    "\n",
    "# Relevance flags: 1 for relevant, 0 for irrelevant\n",
    "relevance_flags = [1, 0, 0, 1, 0]\n",
    "\n",
    "# Use compress to keep only relevant reviews\n",
    "relevant_reviews = list(compress(reviews, relevance_flags))\n",
    "\n",
    "print(relevant_reviews)"
   ]
  },
  {
   "cell_type": "code",
   "execution_count": 6,
   "metadata": {},
   "outputs": [
    {
     "name": "stdout",
     "output_type": "stream",
     "text": [
      "[15, 20, 25, 30]\n"
     ]
    }
   ],
   "source": [
    "from itertools import dropwhile\n",
    "\n",
    "# Hourly website traffic counts\n",
    "traffic_data = [10, 12, 8, 15, 20, 25, 30]\n",
    "\n",
    "# Function to check for low traffic\n",
    "def is_low_traffic(x):\n",
    "    return x < 15\n",
    "\n",
    "# Use dropwhile to ignore low-traffic hours\n",
    "high_traffic_data = list(dropwhile(is_low_traffic, traffic_data))\n",
    "\n",
    "print(high_traffic_data)"
   ]
  },
  {
   "cell_type": "markdown",
   "metadata": {},
   "source": [
    "# Combinatoric iterators"
   ]
  },
  {
   "cell_type": "code",
   "execution_count": 7,
   "metadata": {},
   "outputs": [
    {
     "name": "stdout",
     "output_type": "stream",
     "text": [
      "[(0.01, 32), (0.01, 64), (0.01, 128), (0.1, 32), (0.1, 64), (0.1, 128), (0.5, 32), (0.5, 64), (0.5, 128)]\n"
     ]
    }
   ],
   "source": [
    "from itertools import product\n",
    "\n",
    "# Possible learning rates and batch sizes\n",
    "learning_rates = [0.01, 0.1, 0.5]\n",
    "batch_sizes = [32, 64, 128]\n",
    "\n",
    "# Generate all combinations using product\n",
    "parameter_combinations = list(product(learning_rates, batch_sizes))\n",
    "\n",
    "print(parameter_combinations)"
   ]
  },
  {
   "cell_type": "code",
   "execution_count": 8,
   "metadata": {},
   "outputs": [
    {
     "name": "stdout",
     "output_type": "stream",
     "text": [
      "[('Age', 'Income'), ('Age', 'Education Level'), ('Income', 'Age'), ('Income', 'Education Level'), ('Education Level', 'Age'), ('Education Level', 'Income')]\n"
     ]
    }
   ],
   "source": [
    "from itertools import permutations\n",
    "\n",
    "# Features in a dataset\n",
    "features = ['Age', 'Income', 'Education Level']\n",
    "\n",
    "# Generate all permutations of features\n",
    "feature_permutations = list(permutations(features, 2))\n",
    "\n",
    "print(feature_permutations)"
   ]
  },
  {
   "cell_type": "code",
   "execution_count": 9,
   "metadata": {},
   "outputs": [
    {
     "name": "stdout",
     "output_type": "stream",
     "text": [
      "[('Age', 'Salary'), ('Age', 'Years of Experience'), ('Salary', 'Years of Experience')]\n"
     ]
    }
   ],
   "source": [
    "from itertools import combinations\n",
    "\n",
    "# List of features in a dataset\n",
    "features = ['Age', 'Salary', 'Years of Experience']\n",
    "\n",
    "# Generate all 2-element combinations of features\n",
    "feature_combinations = list(combinations(features, 2))\n",
    "\n",
    "print(feature_combinations)"
   ]
  },
  {
   "cell_type": "code",
   "execution_count": null,
   "metadata": {},
   "outputs": [],
   "source": []
  }
 ],
 "metadata": {
  "kernelspec": {
   "display_name": "Python 3",
   "language": "python",
   "name": "python3"
  },
  "language_info": {
   "codemirror_mode": {
    "name": "ipython",
    "version": 3
   },
   "file_extension": ".py",
   "mimetype": "text/x-python",
   "name": "python",
   "nbconvert_exporter": "python",
   "pygments_lexer": "ipython3",
   "version": "3.11.5"
  }
 },
 "nbformat": 4,
 "nbformat_minor": 2
}
