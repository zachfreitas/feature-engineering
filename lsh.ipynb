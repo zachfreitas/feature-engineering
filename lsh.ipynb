{
 "cells": [
  {
   "cell_type": "code",
   "execution_count": 15,
   "metadata": {},
   "outputs": [
    {
     "name": "stdout",
     "output_type": "stream",
     "text": [
      "(array([[0.        , 0.15119966, 0.17597917, 0.19853167, 0.20327011]]), array([[  0, 621, 457, 247, 889]], dtype=int64))\n"
     ]
    }
   ],
   "source": [
    "import numpy as np\n",
    "from sklearn.neighbors import NearestNeighbors\n",
    "\n",
    "# Create the data\n",
    "data = np.random.randn(1000, 10)\n",
    "\n",
    "# Create the LSH object\n",
    "lsh = NearestNeighbors(metric='cosine', algorithm='auto') #'lsh' is not an alowable algo.\n",
    "\n",
    "# Fit the LSH object to the data\n",
    "lsh.fit(data)\n",
    "\n",
    "# Query the LSH object for nearest neighbors\n",
    "neighbors = lsh.kneighbors([data[0]], return_distance=True) #, n_neighbors=1000)\n",
    "\n",
    "# Print the nearest neighbors\n",
    "print(neighbors)"
   ]
  },
  {
   "cell_type": "code",
   "execution_count": null,
   "metadata": {},
   "outputs": [],
   "source": []
  }
 ],
 "metadata": {
  "kernelspec": {
   "display_name": "Python 3",
   "language": "python",
   "name": "python3"
  },
  "language_info": {
   "codemirror_mode": {
    "name": "ipython",
    "version": 3
   },
   "file_extension": ".py",
   "mimetype": "text/x-python",
   "name": "python",
   "nbconvert_exporter": "python",
   "pygments_lexer": "ipython3",
   "version": "3.11.5"
  }
 },
 "nbformat": 4,
 "nbformat_minor": 2
}
